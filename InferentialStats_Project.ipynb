{
 "cells": [
  {
   "cell_type": "markdown",
   "metadata": {},
   "source": [
    "<h1> Analysis of Haberman's Survival Dataset</h1>\n",
    "\n",
    "<h2>Final Project for Udacity's Intro to Inferential Statistics</h2>\n",
    "\n",
    "\n",
    "\n",
    "<hr style=\"height:1px;border:none;\" />"
   ]
  },
  {
   "cell_type": "markdown",
   "metadata": {},
   "source": [
    "<h2> Introduction</h2>"
   ]
  },
  {
   "cell_type": "markdown",
   "metadata": {},
   "source": [
    "According to [World Health Organization](http://www.who.int/mediacentre/factsheets/fs297/en/), \"Cancer is the second leading cause of death globally, and was responsible for 8.8 million deaths in 2015. Globally, nearly 1 in 6 deaths is due to cancer.\". And breast cancer is the fifth most deadly cancer with 571,000 deaths as of 2015. Knowing more about the disease will make a big difference in the patient's survival and treatment.\n",
    "\n",
    "#### About the data\n",
    "\n",
    "The Haberman's Survival dataset contains cases from a study that was conducted between 1958 and 1970 at the University of Chicago's Billings Hospital on the survival of patients who had undergone surgery for breast cancer.\n",
    "\n",
    "The data consists of following attributes:\n",
    "\n",
    "1. Age of patient at time of operation \n",
    "2. Patient's year of operation\n",
    "3. Number of positive axillary nodes detected - A positive axillary lymph node is a lymph node in the area of the armpit (axilla) to which cancer has spread. \n",
    "4. Survival status - 1 = the patient survived 5 years or longer, 2 = the patient died within 5 year\n",
    "\n",
    "Analysing the data might help us answer questions like:\n",
    "1. <a href = '#R1'>Does patient's age at the time of operation affect survival (5 years after the operation)?</a>\n",
    "2. <a href = '#R2'>Is there a relationship between patient's age and number of positive axillary nodes?</a>\n",
    "3. <a href = '#R3'>Is there a relationship between number of surviving or perishing patients and the year the operation were performed?</a>"
   ]
  },
  {
   "cell_type": "markdown",
   "metadata": {},
   "source": [
    "#### Load the data"
   ]
  },
  {
   "cell_type": "code",
   "execution_count": 1,
   "metadata": {
    "collapsed": true
   },
   "outputs": [],
   "source": [
    "# Importing the libraries for data manipulation and visualization\n",
    "\n",
    "import pandas as pd\n",
    "import seaborn as sns\n",
    "import matplotlib.pyplot as plt\n",
    "%matplotlib inline"
   ]
  },
  {
   "cell_type": "code",
   "execution_count": 2,
   "metadata": {
    "collapsed": false
   },
   "outputs": [],
   "source": [
    "# The data file has no headers, so they need to be assigned\n",
    "\n",
    "column_names = ['Patient_Age', 'Year_of_Operation', 'Axillary_Nodes', 'Survival_Status']\n",
    "\n",
    "df = pd.read_csv('data/haberman.data', header = None, names = column_names)"
   ]
  },
  {
   "cell_type": "markdown",
   "metadata": {},
   "source": [
    "#### Let's take a look at the data."
   ]
  },
  {
   "cell_type": "code",
   "execution_count": 3,
   "metadata": {
    "collapsed": false
   },
   "outputs": [
    {
     "data": {
      "text/html": [
       "<div>\n",
       "<table border=\"1\" class=\"dataframe\">\n",
       "  <thead>\n",
       "    <tr style=\"text-align: right;\">\n",
       "      <th></th>\n",
       "      <th>Patient_Age</th>\n",
       "      <th>Year_of_Operation</th>\n",
       "      <th>Axillary_Nodes</th>\n",
       "      <th>Survival_Status</th>\n",
       "    </tr>\n",
       "  </thead>\n",
       "  <tbody>\n",
       "    <tr>\n",
       "      <th>0</th>\n",
       "      <td>30</td>\n",
       "      <td>64</td>\n",
       "      <td>1</td>\n",
       "      <td>1</td>\n",
       "    </tr>\n",
       "    <tr>\n",
       "      <th>1</th>\n",
       "      <td>30</td>\n",
       "      <td>62</td>\n",
       "      <td>3</td>\n",
       "      <td>1</td>\n",
       "    </tr>\n",
       "    <tr>\n",
       "      <th>2</th>\n",
       "      <td>30</td>\n",
       "      <td>65</td>\n",
       "      <td>0</td>\n",
       "      <td>1</td>\n",
       "    </tr>\n",
       "    <tr>\n",
       "      <th>3</th>\n",
       "      <td>31</td>\n",
       "      <td>59</td>\n",
       "      <td>2</td>\n",
       "      <td>1</td>\n",
       "    </tr>\n",
       "    <tr>\n",
       "      <th>4</th>\n",
       "      <td>31</td>\n",
       "      <td>65</td>\n",
       "      <td>4</td>\n",
       "      <td>1</td>\n",
       "    </tr>\n",
       "  </tbody>\n",
       "</table>\n",
       "</div>"
      ],
      "text/plain": [
       "   Patient_Age  Year_of_Operation  Axillary_Nodes  Survival_Status\n",
       "0           30                 64               1                1\n",
       "1           30                 62               3                1\n",
       "2           30                 65               0                1\n",
       "3           31                 59               2                1\n",
       "4           31                 65               4                1"
      ]
     },
     "execution_count": 3,
     "metadata": {},
     "output_type": "execute_result"
    }
   ],
   "source": [
    "df.head()"
   ]
  },
  {
   "cell_type": "markdown",
   "metadata": {},
   "source": [
    "#### Convert the categorical variable's type to category."
   ]
  },
  {
   "cell_type": "code",
   "execution_count": 4,
   "metadata": {
    "collapsed": false
   },
   "outputs": [],
   "source": [
    "# Creating a new variable that maps Survival_Status as 'Yes' for 1 and 'No' for 2\n",
    "df['Survived'] = df.Survival_Status.map(lambda x: 'Yes' if (x == 1) else 'No')\n",
    "\n",
    "df.Survived = df.Survived.astype('category')"
   ]
  },
  {
   "cell_type": "markdown",
   "metadata": {},
   "source": [
    "#### Descriptive Statistics"
   ]
  },
  {
   "cell_type": "code",
   "execution_count": 5,
   "metadata": {
    "collapsed": false
   },
   "outputs": [
    {
     "data": {
      "text/html": [
       "<div>\n",
       "<table border=\"1\" class=\"dataframe\">\n",
       "  <thead>\n",
       "    <tr style=\"text-align: right;\">\n",
       "      <th></th>\n",
       "      <th>Patient_Age</th>\n",
       "      <th>Year_of_Operation</th>\n",
       "      <th>Axillary_Nodes</th>\n",
       "    </tr>\n",
       "  </thead>\n",
       "  <tbody>\n",
       "    <tr>\n",
       "      <th>count</th>\n",
       "      <td>306.000000</td>\n",
       "      <td>306.000000</td>\n",
       "      <td>306.000000</td>\n",
       "    </tr>\n",
       "    <tr>\n",
       "      <th>mean</th>\n",
       "      <td>52.457516</td>\n",
       "      <td>62.852941</td>\n",
       "      <td>4.026144</td>\n",
       "    </tr>\n",
       "    <tr>\n",
       "      <th>std</th>\n",
       "      <td>10.803452</td>\n",
       "      <td>3.249405</td>\n",
       "      <td>7.189654</td>\n",
       "    </tr>\n",
       "    <tr>\n",
       "      <th>min</th>\n",
       "      <td>30.000000</td>\n",
       "      <td>58.000000</td>\n",
       "      <td>0.000000</td>\n",
       "    </tr>\n",
       "    <tr>\n",
       "      <th>25%</th>\n",
       "      <td>44.000000</td>\n",
       "      <td>60.000000</td>\n",
       "      <td>0.000000</td>\n",
       "    </tr>\n",
       "    <tr>\n",
       "      <th>50%</th>\n",
       "      <td>52.000000</td>\n",
       "      <td>63.000000</td>\n",
       "      <td>1.000000</td>\n",
       "    </tr>\n",
       "    <tr>\n",
       "      <th>75%</th>\n",
       "      <td>60.750000</td>\n",
       "      <td>65.750000</td>\n",
       "      <td>4.000000</td>\n",
       "    </tr>\n",
       "    <tr>\n",
       "      <th>max</th>\n",
       "      <td>83.000000</td>\n",
       "      <td>69.000000</td>\n",
       "      <td>52.000000</td>\n",
       "    </tr>\n",
       "  </tbody>\n",
       "</table>\n",
       "</div>"
      ],
      "text/plain": [
       "       Patient_Age  Year_of_Operation  Axillary_Nodes\n",
       "count   306.000000         306.000000      306.000000\n",
       "mean     52.457516          62.852941        4.026144\n",
       "std      10.803452           3.249405        7.189654\n",
       "min      30.000000          58.000000        0.000000\n",
       "25%      44.000000          60.000000        0.000000\n",
       "50%      52.000000          63.000000        1.000000\n",
       "75%      60.750000          65.750000        4.000000\n",
       "max      83.000000          69.000000       52.000000"
      ]
     },
     "execution_count": 5,
     "metadata": {},
     "output_type": "execute_result"
    }
   ],
   "source": [
    "df[['Patient_Age', 'Year_of_Operation', 'Axillary_Nodes', 'Survived']].describe()"
   ]
  },
  {
   "cell_type": "markdown",
   "metadata": {},
   "source": [
    "<h2> Research Question & Hypothesis </h2>\n"
   ]
  },
  {
   "cell_type": "markdown",
   "metadata": {},
   "source": [
    "<a name = 'R1'><h3> Research Question 1:</h3></a>\n",
    "\n",
    "<i>Does patient's age at the time of operation affect survival (5 years after the operation)? Or in other words, do younger patients have higher chance of surviving?</i>"
   ]
  },
  {
   "cell_type": "markdown",
   "metadata": {},
   "source": [
    "<b>Hypothesis</b>\n",
    "\n",
    "<b>H<sub>0</sub></b> : Patient's age at the time of surgery makes no difference to survival after 5 years. That is, mean age of those who survived and those who perished is the same. $$H_0: \\mu1 - \\mu2 = 0$$\n",
    "\n",
    "<b>H<sub>a</sub></b>: Younger patients have a better chance of surviving five years after the operation. $$H_a: \\mu1 -  \\mu2 < 0$$"
   ]
  },
  {
   "cell_type": "markdown",
   "metadata": {},
   "source": [
    "<b>Age distribution</b>"
   ]
  },
  {
   "cell_type": "code",
   "execution_count": 6,
   "metadata": {
    "collapsed": false
   },
   "outputs": [
    {
     "data": {
      "text/plain": [
       "<matplotlib.axes._subplots.AxesSubplot at 0xa1556f0>"
      ]
     },
     "execution_count": 6,
     "metadata": {},
     "output_type": "execute_result"
    },
    {
     "data": {
      "image/png": "[encoded data removed]",
      "text/plain": [
       "<matplotlib.figure.Figure at 0xa09ad30>"
      ]
     },
     "metadata": {},
     "output_type": "display_data"
    }
   ],
   "source": [
    "# Distribution of Age\n",
    "\n",
    "fig, [ax1, ax2] = plt.subplots(nrows=1, ncols=2, figsize = (14, 6))\n",
    "\n",
    "sns.set(font_scale=1.1)\n",
    "\n",
    "ax1.set(xlabel = 'Patient age at the time of operation',\n",
    "       ylabel = 'Frequency',\n",
    "       title = 'Distribution of patient age')\n",
    "sns.distplot(df.Patient_Age, ax = ax1)\n",
    "\n",
    "# Distribution of age by survival\n",
    "\n",
    "ax2.set(ylabel = 'Patient age at the time of operation',\n",
    "       title = 'Patient age by survival')\n",
    "sns.boxplot(x = df.Survived, y = df.Patient_Age, ax = ax2 )"
   ]
  },
  {
   "cell_type": "markdown",
   "metadata": {},
   "source": [
    "Observations:\n",
    "1. The distribution of patient age is almost normal. \n",
    "2. Mean age of patients that survived is a bit lower than that of those who did not.\n",
    "3. The age distribution of the perished patients is a bit skewed towards the right and is narrower. Whereas, the age distribution of the surviving patients is broader and more symmetric.\n",
    "\n",
    "#### Descriptive statistics of age by survival"
   ]
  },
  {
   "cell_type": "code",
   "execution_count": 7,
   "metadata": {
    "collapsed": false,
    "scrolled": false
   },
   "outputs": [
    {
     "data": {
      "text/html": [
       "<div>\n",
       "<table border=\"1\" class=\"dataframe\">\n",
       "  <thead>\n",
       "    <tr style=\"text-align: right;\">\n",
       "      <th></th>\n",
       "      <th></th>\n",
       "      <th>Patient_Age</th>\n",
       "    </tr>\n",
       "    <tr>\n",
       "      <th>Survived</th>\n",
       "      <th></th>\n",
       "      <th></th>\n",
       "    </tr>\n",
       "  </thead>\n",
       "  <tbody>\n",
       "    <tr>\n",
       "      <th rowspan=\"8\" valign=\"top\">No</th>\n",
       "      <th>count</th>\n",
       "      <td>81.000000</td>\n",
       "    </tr>\n",
       "    <tr>\n",
       "      <th>mean</th>\n",
       "      <td>53.679012</td>\n",
       "    </tr>\n",
       "    <tr>\n",
       "      <th>std</th>\n",
       "      <td>10.167137</td>\n",
       "    </tr>\n",
       "    <tr>\n",
       "      <th>min</th>\n",
       "      <td>34.000000</td>\n",
       "    </tr>\n",
       "    <tr>\n",
       "      <th>25%</th>\n",
       "      <td>46.000000</td>\n",
       "    </tr>\n",
       "    <tr>\n",
       "      <th>50%</th>\n",
       "      <td>53.000000</td>\n",
       "    </tr>\n",
       "    <tr>\n",
       "      <th>75%</th>\n",
       "      <td>61.000000</td>\n",
       "    </tr>\n",
       "    <tr>\n",
       "      <th>max</th>\n",
       "      <td>83.000000</td>\n",
       "    </tr>\n",
       "    <tr>\n",
       "      <th rowspan=\"8\" valign=\"top\">Yes</th>\n",
       "      <th>count</th>\n",
       "      <td>225.000000</td>\n",
       "    </tr>\n",
       "    <tr>\n",
       "      <th>mean</th>\n",
       "      <td>52.017778</td>\n",
       "    </tr>\n",
       "    <tr>\n",
       "      <th>std</th>\n",
       "      <td>11.012154</td>\n",
       "    </tr>\n",
       "    <tr>\n",
       "      <th>min</th>\n",
       "      <td>30.000000</td>\n",
       "    </tr>\n",
       "    <tr>\n",
       "      <th>25%</th>\n",
       "      <td>43.000000</td>\n",
       "    </tr>\n",
       "    <tr>\n",
       "      <th>50%</th>\n",
       "      <td>52.000000</td>\n",
       "    </tr>\n",
       "    <tr>\n",
       "      <th>75%</th>\n",
       "      <td>60.000000</td>\n",
       "    </tr>\n",
       "    <tr>\n",
       "      <th>max</th>\n",
       "      <td>77.000000</td>\n",
       "    </tr>\n",
       "  </tbody>\n",
       "</table>\n",
       "</div>"
      ],
      "text/plain": [
       "                Patient_Age\n",
       "Survived                   \n",
       "No       count    81.000000\n",
       "         mean     53.679012\n",
       "         std      10.167137\n",
       "         min      34.000000\n",
       "         25%      46.000000\n",
       "         50%      53.000000\n",
       "         75%      61.000000\n",
       "         max      83.000000\n",
       "Yes      count   225.000000\n",
       "         mean     52.017778\n",
       "         std      11.012154\n",
       "         min      30.000000\n",
       "         25%      43.000000\n",
       "         50%      52.000000\n",
       "         75%      60.000000\n",
       "         max      77.000000"
      ]
     },
     "execution_count": 7,
     "metadata": {},
     "output_type": "execute_result"
    }
   ],
   "source": [
    "# Some descriptive statistics of patients by survival\n",
    "df.groupby('Survived').describe()[['Patient_Age']]"
   ]
  },
  {
   "cell_type": "markdown",
   "metadata": {},
   "source": [
    "#### Experimental Design"
   ]
  },
  {
   "cell_type": "markdown",
   "metadata": {},
   "source": [
    "For testing our hypothesis, we will use the 1 tailed, 2-sample t-test for independence.\n",
    "This test is appropriate since,\n",
    "1. the age distribution is approximately normal and number of observations is greater than 30 and\n",
    "2. the samples are independent since a patient cannot have survived and perished at the same time.\n",
    "\n",
    "#### Computing t-statistic\n",
    "Since the variance for the survived and perished patient ages is different, the t statistic will be calculated using:\n",
    "\n",
    "$$t^* = \\frac{\\mu_1 - \\mu_2}{\\sqrt{\\frac{s_1^2}{n_1} + \\frac{s_2^2}{n_2}}}$$\n",
    "\n",
    "#### degrees of freedom\n",
    "\n",
    "$$df = \\frac {[\\frac{s_1^2}{n_1} + \\frac{s_2^2}{n_2}]^2} { \\frac{(\\frac{s_1^2}{n1})^2} {n-1} + \\frac{(\\frac{s_2^2}{n2})^2} {n-2} }$$"
   ]
  },
  {
   "cell_type": "code",
   "execution_count": 8,
   "metadata": {
    "collapsed": false
   },
   "outputs": [
    {
     "name": "stdout",
     "output_type": "stream",
     "text": [
      "t* = -1.23303365619\n",
      "degrees of freedom = 152.149358613\n"
     ]
    }
   ],
   "source": [
    "mu1 = df[df.Survived == 'Yes'].Patient_Age.mean()\n",
    "s1 = df[df.Survived == 'Yes'].Patient_Age.std()\n",
    "n1 = len(df[df.Survived == 'Yes'].Patient_Age)\n",
    "\n",
    "mu2 = df[df.Survived == 'No'].Patient_Age.mean()\n",
    "s2 = df[df.Survived == 'No'].Patient_Age.std()\n",
    "n2 = len(df[df.Survived == 'No'].Patient_Age)\n",
    "\n",
    "from __future__ import division\n",
    "from math import sqrt\n",
    "\n",
    "t_stat = (mu1 - mu2) / sqrt(((s1 ** 2) / n1) + ((s2 ** 2) / n2))\n",
    "\n",
    "degree_freedom = (((s1 ** 2) / n1) + ((s2 ** 2) / n2))**2 / ((((s1**2 / n1) ** 2) / (n1 - 1)) + (((s2**2 / n2) ** 2) / (n2 - 1)))\n",
    "print 't* = {0}\\ndegrees of freedom = {1}'.format(t_stat, degree_freedom)"
   ]
  },
  {
   "cell_type": "markdown",
   "metadata": {},
   "source": [
    "#### Test result\n",
    "\n",
    "The left tailed critical t-statistic at significance level of 5% and degrees of freedom = 152 (using the t-table) is -1.660. Since we are testing for left side, to reject the null hypothesis our t-statistic must be less than -1.660."
   ]
  },
  {
   "cell_type": "markdown",
   "metadata": {},
   "source": [
    "#### Conclusion\n",
    "\n",
    "With a test statistic of -1.23 and critical value of -1.660 at a 5% level of significance, we do not have enough statistical evidence to reject the null hypothesis. \n",
    "\n",
    "Hence, from the available data we cannot say that the surviving and perished patients have statistically significant age difference."
   ]
  },
  {
   "cell_type": "markdown",
   "metadata": {},
   "source": [
    "<a name = 'R2'><h3>Research Question 2:</h3></a>\n",
    "\n",
    "<i>Is there a relationship between patient age and number of positive axillary nodes detected?</i>\n",
    "\n",
    "<b>Hypothesis:</b>\n",
    "\n",
    "<b>H<sub>0</sub></b> : There is no relationship between patient's age and number of positive axillary nodes.\n",
    "\n",
    "\n",
    "<b>H<sub>a</sub></b>: There is a relationship between patient's age and number of positive axillary nodes.\n"
   ]
  },
  {
   "cell_type": "markdown",
   "metadata": {},
   "source": [
    "#### Descriptive Statistics"
   ]
  },
  {
   "cell_type": "code",
   "execution_count": 9,
   "metadata": {
    "collapsed": false
   },
   "outputs": [
    {
     "data": {
      "text/html": [
       "<div>\n",
       "<table border=\"1\" class=\"dataframe\">\n",
       "  <thead>\n",
       "    <tr style=\"text-align: right;\">\n",
       "      <th></th>\n",
       "      <th>Patient_Age</th>\n",
       "      <th>Axillary_Nodes</th>\n",
       "    </tr>\n",
       "  </thead>\n",
       "  <tbody>\n",
       "    <tr>\n",
       "      <th>count</th>\n",
       "      <td>306.000000</td>\n",
       "      <td>306.000000</td>\n",
       "    </tr>\n",
       "    <tr>\n",
       "      <th>mean</th>\n",
       "      <td>52.457516</td>\n",
       "      <td>4.026144</td>\n",
       "    </tr>\n",
       "    <tr>\n",
       "      <th>std</th>\n",
       "      <td>10.803452</td>\n",
       "      <td>7.189654</td>\n",
       "    </tr>\n",
       "    <tr>\n",
       "      <th>min</th>\n",
       "      <td>30.000000</td>\n",
       "      <td>0.000000</td>\n",
       "    </tr>\n",
       "    <tr>\n",
       "      <th>25%</th>\n",
       "      <td>44.000000</td>\n",
       "      <td>0.000000</td>\n",
       "    </tr>\n",
       "    <tr>\n",
       "      <th>50%</th>\n",
       "      <td>52.000000</td>\n",
       "      <td>1.000000</td>\n",
       "    </tr>\n",
       "    <tr>\n",
       "      <th>75%</th>\n",
       "      <td>60.750000</td>\n",
       "      <td>4.000000</td>\n",
       "    </tr>\n",
       "    <tr>\n",
       "      <th>max</th>\n",
       "      <td>83.000000</td>\n",
       "      <td>52.000000</td>\n",
       "    </tr>\n",
       "  </tbody>\n",
       "</table>\n",
       "</div>"
      ],
      "text/plain": [
       "       Patient_Age  Axillary_Nodes\n",
       "count   306.000000      306.000000\n",
       "mean     52.457516        4.026144\n",
       "std      10.803452        7.189654\n",
       "min      30.000000        0.000000\n",
       "25%      44.000000        0.000000\n",
       "50%      52.000000        1.000000\n",
       "75%      60.750000        4.000000\n",
       "max      83.000000       52.000000"
      ]
     },
     "execution_count": 9,
     "metadata": {},
     "output_type": "execute_result"
    }
   ],
   "source": [
    "df[['Patient_Age', 'Axillary_Nodes']].describe()"
   ]
  },
  {
   "cell_type": "markdown",
   "metadata": {},
   "source": [
    "<b>Experimental Design</b>\n",
    "\n",
    "We can answer this question with the help of scatter plot. In scatter plot, each pair of data points is represented as a single point on the plane. The more linear our set of points are the stronger the relationship between the two data sets is. The strength of this relationship can be described by the correlation coefficient.\n",
    "\n",
    "<b>Correlation Coefficient</b>\n",
    "$$ r = \\frac {Covariance(x, y)} {S_xS_y} $$\n",
    "\n",
    "where,\n",
    "* $r$ - correlation coefficient\n",
    "* $Covariance(x, y)$ - a measure of how much x and y vary together\n",
    "* $S_x$ and $S_y$ - sample standard deviations of x and y\n",
    "\n",
    "The value of $r$ ranges between 1 and -1 where,\n",
    "- -1 indicates negative relationship\n",
    "- 1 indicates positive relationship\n",
    "- 0 indicates no relationship\n",
    "\n",
    "Hypothesis in terms of the coefficient - \n",
    "\n",
    "<b>H<sub>0</sub></b> : $r = 0$\n",
    "\n",
    "<b>H<sub>a</sub></b>: $r \\ne 0$"
   ]
  },
  {
   "cell_type": "code",
   "execution_count": 10,
   "metadata": {
    "collapsed": false
   },
   "outputs": [
    {
     "data": {
      "text/plain": [
       "<seaborn.axisgrid.JointGrid at 0x34d77f0>"
      ]
     },
     "execution_count": 10,
     "metadata": {},
     "output_type": "execute_result"
    },
    {
     "data": {
      "image/png": "[encoded data removed]",
      "text/plain": [
       "<matplotlib.figure.Figure at 0xa2cb9f0>"
      ]
     },
     "metadata": {},
     "output_type": "display_data"
    }
   ],
   "source": [
    "sns.jointplot(df.Patient_Age, df.Axillary_Nodes, size = 6, kind = 'reg')"
   ]
  },
  {
   "cell_type": "markdown",
   "metadata": {},
   "source": [
    "<b>Test Result</b>\n",
    "\n",
    "Patients of all ages excepting those in their late 70's have mostly 0 positive axillary nodes. The plot is dense at the bottom where the nodes are less than 5, and gets sparser with increase in the nodes detected. \n",
    "Some points are close to the fitted regression line but other points are far from it, which indicates a weak negative linear relationship.\n",
    "\n",
    "$$r = -0.063$$"
   ]
  },
  {
   "cell_type": "markdown",
   "metadata": {},
   "source": [
    "#### Conclusion\n",
    "\n",
    "With the correlation coefficient $r$ of -0.063 so close to 0, we fail to reject the null hyposthesis. Thus, we cannot say that there exist a significant relationship between patient's age and number of positive axillary nodes."
   ]
  },
  {
   "cell_type": "markdown",
   "metadata": {},
   "source": [
    "<a name = 'R3'><h3>Research Question 3:</h3></a>\n",
    "\n",
    "<i>Is there a relationship between number of surviving or perishing patients and the year the operation were performed ?</i>\n",
    "\n",
    "\n",
    "#### Hypothesis:\n",
    "\n",
    "\n",
    "<b>H<sub>0</sub></b> : The number of surviving or perishing patients and the year the operation were performed are independent.\n",
    "\n",
    "<b>H<sub>a</sub></b> : The number of surviving or perishing patients and the year the operation were performed are not independent."
   ]
  },
  {
   "cell_type": "markdown",
   "metadata": {},
   "source": [
    "<b>Number of patients survived and perished from 1958 - 1969</b>"
   ]
  },
  {
   "cell_type": "code",
   "execution_count": 11,
   "metadata": {
    "collapsed": false
   },
   "outputs": [
    {
     "data": {
      "text/plain": [
       "<seaborn.axisgrid.FacetGrid at 0xa5a7a10>"
      ]
     },
     "execution_count": 11,
     "metadata": {},
     "output_type": "execute_result"
    },
    {
     "data": {
      "image/png": "[encoded data removed]",
      "text/plain": [
       "<matplotlib.figure.Figure at 0x23f83f0>"
      ]
     },
     "metadata": {},
     "output_type": "display_data"
    }
   ],
   "source": [
    "g = sns.FacetGrid(df, col = 'Survived', size = 5, hue = 'Survived')\n",
    "g.map(sns.countplot, 'Year_of_Operation')"
   ]
  },
  {
   "cell_type": "markdown",
   "metadata": {},
   "source": [
    "<b>Frequency table</b>"
   ]
  },
  {
   "cell_type": "code",
   "execution_count": 12,
   "metadata": {
    "collapsed": false
   },
   "outputs": [
    {
     "data": {
      "text/html": [
       "<div>\n",
       "<table border=\"1\" class=\"dataframe\">\n",
       "  <thead>\n",
       "    <tr style=\"text-align: right;\">\n",
       "      <th>Year_of_Operation</th>\n",
       "      <th>58</th>\n",
       "      <th>59</th>\n",
       "      <th>60</th>\n",
       "      <th>61</th>\n",
       "      <th>62</th>\n",
       "      <th>63</th>\n",
       "      <th>64</th>\n",
       "      <th>65</th>\n",
       "      <th>66</th>\n",
       "      <th>67</th>\n",
       "      <th>68</th>\n",
       "      <th>69</th>\n",
       "    </tr>\n",
       "    <tr>\n",
       "      <th>Survived</th>\n",
       "      <th></th>\n",
       "      <th></th>\n",
       "      <th></th>\n",
       "      <th></th>\n",
       "      <th></th>\n",
       "      <th></th>\n",
       "      <th></th>\n",
       "      <th></th>\n",
       "      <th></th>\n",
       "      <th></th>\n",
       "      <th></th>\n",
       "      <th></th>\n",
       "    </tr>\n",
       "  </thead>\n",
       "  <tbody>\n",
       "    <tr>\n",
       "      <th>No</th>\n",
       "      <td>12</td>\n",
       "      <td>9</td>\n",
       "      <td>4</td>\n",
       "      <td>3</td>\n",
       "      <td>7</td>\n",
       "      <td>8</td>\n",
       "      <td>8</td>\n",
       "      <td>13</td>\n",
       "      <td>6</td>\n",
       "      <td>4</td>\n",
       "      <td>3</td>\n",
       "      <td>4</td>\n",
       "    </tr>\n",
       "    <tr>\n",
       "      <th>Yes</th>\n",
       "      <td>24</td>\n",
       "      <td>18</td>\n",
       "      <td>24</td>\n",
       "      <td>23</td>\n",
       "      <td>16</td>\n",
       "      <td>22</td>\n",
       "      <td>23</td>\n",
       "      <td>15</td>\n",
       "      <td>22</td>\n",
       "      <td>21</td>\n",
       "      <td>10</td>\n",
       "      <td>7</td>\n",
       "    </tr>\n",
       "  </tbody>\n",
       "</table>\n",
       "</div>"
      ],
      "text/plain": [
       "Year_of_Operation  58  59  60  61  62  63  64  65  66  67  68  69\n",
       "Survived                                                         \n",
       "No                 12   9   4   3   7   8   8  13   6   4   3   4\n",
       "Yes                24  18  24  23  16  22  23  15  22  21  10   7"
      ]
     },
     "execution_count": 12,
     "metadata": {},
     "output_type": "execute_result"
    }
   ],
   "source": [
    "df.pivot_table(index = 'Survived', columns = 'Year_of_Operation', values = 'Survival_Status', aggfunc = 'count')"
   ]
  },
  {
   "cell_type": "markdown",
   "metadata": {},
   "source": [
    "<b>Observed Frequencies</b>"
   ]
  },
  {
   "cell_type": "code",
   "execution_count": 13,
   "metadata": {
    "collapsed": false
   },
   "outputs": [
    {
     "data": {
      "text/html": [
       "<div>\n",
       "<table border=\"1\" class=\"dataframe\">\n",
       "  <thead>\n",
       "    <tr style=\"text-align: right;\">\n",
       "      <th>Year_Bin</th>\n",
       "      <th>(57, 59]</th>\n",
       "      <th>(59, 61]</th>\n",
       "      <th>(61, 63]</th>\n",
       "      <th>(63, 65]</th>\n",
       "      <th>(65, 67]</th>\n",
       "      <th>(67, 69]</th>\n",
       "      <th>Total</th>\n",
       "    </tr>\n",
       "    <tr>\n",
       "      <th>Survived</th>\n",
       "      <th></th>\n",
       "      <th></th>\n",
       "      <th></th>\n",
       "      <th></th>\n",
       "      <th></th>\n",
       "      <th></th>\n",
       "      <th></th>\n",
       "    </tr>\n",
       "  </thead>\n",
       "  <tbody>\n",
       "    <tr>\n",
       "      <th>No</th>\n",
       "      <td>21.0</td>\n",
       "      <td>7.0</td>\n",
       "      <td>15.0</td>\n",
       "      <td>21.0</td>\n",
       "      <td>10.0</td>\n",
       "      <td>7.0</td>\n",
       "      <td>81.0</td>\n",
       "    </tr>\n",
       "    <tr>\n",
       "      <th>Yes</th>\n",
       "      <td>42.0</td>\n",
       "      <td>47.0</td>\n",
       "      <td>38.0</td>\n",
       "      <td>38.0</td>\n",
       "      <td>43.0</td>\n",
       "      <td>17.0</td>\n",
       "      <td>225.0</td>\n",
       "    </tr>\n",
       "    <tr>\n",
       "      <th>Total</th>\n",
       "      <td>63.0</td>\n",
       "      <td>54.0</td>\n",
       "      <td>53.0</td>\n",
       "      <td>59.0</td>\n",
       "      <td>53.0</td>\n",
       "      <td>24.0</td>\n",
       "      <td>306.0</td>\n",
       "    </tr>\n",
       "  </tbody>\n",
       "</table>\n",
       "</div>"
      ],
      "text/plain": [
       "Year_Bin  (57, 59]  (59, 61]  (61, 63]  (63, 65]  (65, 67]  (67, 69]  Total\n",
       "Survived                                                                   \n",
       "No            21.0       7.0      15.0      21.0      10.0       7.0   81.0\n",
       "Yes           42.0      47.0      38.0      38.0      43.0      17.0  225.0\n",
       "Total         63.0      54.0      53.0      59.0      53.0      24.0  306.0"
      ]
     },
     "execution_count": 13,
     "metadata": {},
     "output_type": "execute_result"
    }
   ],
   "source": [
    "# Binning the Year_of_Operation variable, where each bin is of 2 years\n",
    "df['Year_Bin'] = pd.cut(df.Year_of_Operation, range(57, 70, 2))\n",
    "\n",
    "table = df.pivot_table(index = 'Survived', columns = 'Year_Bin', values = 'Survival_Status', \n",
    "                       aggfunc='count', margins=True, margins_name = 'Total')\n",
    "\n",
    "#expected = (table[0:1].values[0][:-1], table[1:2].values[0][:-1])\n",
    "table"
   ]
  },
  {
   "cell_type": "markdown",
   "metadata": {},
   "source": [
    "<b>Experimental Design</b>\n",
    "\n",
    "For this hypothesis, chi-square would be useful. This is because, our data satisfies following:- \n",
    "\n",
    "1. Each frequency in the contingency table is > 5\n",
    "2. The categories of the variables are mutually exclusive. That is, a patient either had an operation in only one of the year bins.\n",
    "3. The patient groups are independent, that is a patient either survived or perished.\n"
   ]
  },
  {
   "cell_type": "markdown",
   "metadata": {},
   "source": [
    "<b>Chi-Square test for independence</b>\n",
    "\n",
    "$$\\chi^2 = \\frac {\\sum(O - E)^2} {E}$$\n",
    "\n",
    "Where,\n",
    "- $\\chi^2$ - test statistic\n",
    "- $O$ - Observed frequencies\n",
    "- $E$ - Expected frequencies, and $E = \\frac {Row Total * Column Total}  {N}$"
   ]
  },
  {
   "cell_type": "code",
   "execution_count": 14,
   "metadata": {
    "collapsed": false
   },
   "outputs": [
    {
     "name": "stdout",
     "output_type": "stream",
     "text": [
      "Expected Values\n",
      "----------------------------------------------------------------\n",
      "[ 16.67647059  14.29411765  14.02941176  15.61764706  14.02941176\n",
      "   6.35294118]\n",
      "[ 46.32352941  39.70588235  38.97058824  43.38235294  38.97058824\n",
      "  17.64705882]\n",
      "\n",
      "Chi-square statistic = 10.8640846418\n",
      "Degrees of freedom = 12\n"
     ]
    }
   ],
   "source": [
    "#from scipy import stats\n",
    "\n",
    "#print stats.chi2_contingency(table)\n",
    "\n",
    "observed = (table[0:1].values[0][:-1], table[1:2].values[0][:-1])\n",
    "\n",
    "expected = []\n",
    "\n",
    "for x in table.Total.values[:-1]:\n",
    "    expected.append((x * table[2:3].values[0][:-1]) / table.Total[-1])\n",
    "    \n",
    "chi_computed =  sum(((observed[0] - expected[0])**2) / expected[0]) + sum(((observed[1] - expected[1])**2) / expected[1])\n",
    "\n",
    "print 'Expected Values\\n----------------------------------------------------------------'\n",
    "print expected[0]\n",
    "print expected[1]\n",
    "\n",
    "degree_of_freedom = (table.index.values.size - 1) * (table.columns.values.size - 1)\n",
    "print '\\nChi-square statistic = {0}\\nDegrees of freedom = {1}'.format(chi_computed, degree_of_freedom)\n"
   ]
  },
  {
   "cell_type": "markdown",
   "metadata": {},
   "source": [
    "<b>Test Result</b>\n",
    "\n",
    "The critical $\\chi^2$ value at 5% significance level and degrees of freedom = $12$, is $21.026$. To reject the null hypothesis, our computed $\\chi^2$ value must be greater than the critical value.\n",
    "\n",
    "\n",
    "<b>Conclusion</b>\n",
    "\n",
    "We fail to reject null because the test statistic is snaller than the critical statistic (10.8640846418 < 21.026). Hence, we do not have statistically significant evidence at $\\alpha = 0.05$ to show that the year the operation was performed and number of operations are related."
   ]
  },
  {
   "cell_type": "markdown",
   "metadata": {},
   "source": [
    "<h2>Final Remarks</h2>\n",
    "\n",
    "There are many other factors which influence the survival of patients. However, even with a small number of variables, we were able to test for -\n",
    "1. impact of patient's age at the time of operation,\n",
    "2. relationship between patient's age and number of positive axillary nodes and,\n",
    "3. the relationship between number of surviving or perishing patients and the year the operation were performed.\n",
    "\n",
    "Further tests could explain other variables that impact survival of the patient and those that affect the number of positive axillary nodes. This may aide with early detection or even with prevention."
   ]
  },
  {
   "cell_type": "markdown",
   "metadata": {},
   "source": [
    "## References\n",
    "1. [National Institute of Cancer Prevention and Research](http://cancerindia.org.in/cp/index.php/know-about-cancer/statistics#breast-cancer)\n",
    "2. [World Health Organization](http://www.who.int/mediacentre/factsheets/fs297/en/)\n",
    "3. [t-Table](http://www.sjsu.edu/faculty/gerstman/StatPrimer/t-table.pdf)\n",
    "4. [Chi-Square Distribution Table](http://sites.stat.psu.edu/~mga/401/tables/Chi-square-table.pdf)\n",
    "5. [Udacity - Intro to Inferential Statistics](https://www.udacity.com/course/intro-to-inferential-statistics--ud201)"
   ]
  }
 ],
 "metadata": {
  "anaconda-cloud": {},
  "kernelspec": {
   "display_name": "Python [default]",
   "language": "python",
   "name": "python2"
  },
  "language_info": {
   "codemirror_mode": {
    "name": "ipython",
    "version": 2
   },
   "file_extension": ".py",
   "mimetype": "text/x-python",
   "name": "python",
   "nbconvert_exporter": "python",
   "pygments_lexer": "ipython2",
   "version": "2.7.12"
  }
 },
 "nbformat": 4,
 "nbformat_minor": 0
}
